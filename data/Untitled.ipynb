{
 "cells": [
  {
   "cell_type": "code",
   "execution_count": 1,
   "metadata": {},
   "outputs": [],
   "source": [
    "import pickle5 as pickle\n",
    "import pandas as pd\n",
    "import numpy as np\n",
    "#from sklearn.model_selection import train_test_split"
   ]
  },
  {
   "cell_type": "code",
   "execution_count": 7,
   "metadata": {},
   "outputs": [
    {
     "name": "stdout",
     "output_type": "stream",
     "text": [
      "1 940 940\n",
      "2 941 1881\n",
      "3 938 2819\n",
      "5 942 3761\n",
      "6 943 4704\n",
      "7 944 5648\n",
      "8 941 6589\n",
      "9 936 7525\n",
      "10 941 8466\n",
      "23 944 9410\n",
      "24 946 10356\n",
      "26 947 11303\n",
      "27 948 12251\n",
      "29 944 13195\n",
      "31 944 14139\n",
      "34 947 15086\n",
      "35 947 16033\n",
      "36 946 16979\n",
      "39 948 17927\n",
      "40 936 18863\n"
     ]
    }
   ],
   "source": [
    "actions = [1, 2, 3, 5, 6, 7, 8, 9, 10, 23, 24, 26, 27, 29, 31, 34, 35, 36, 39, 40]\n",
    "\n",
    "skes_data = []\n",
    "\n",
    "for a in actions:\n",
    "    with open(\"raw_data/A\"+ str(a).zfill(3) + \".pkl\", \"rb\") as f:\n",
    "      data = pickle.load(f)\n",
    "\n",
    "    skes_data += data\n",
    "    print(a, len(data), len(skes_data))"
   ]
  },
  {
   "cell_type": "code",
   "execution_count": 5,
   "metadata": {},
   "outputs": [
    {
     "name": "stdout",
     "output_type": "stream",
     "text": [
      "18863\n"
     ]
    }
   ],
   "source": [
    "print(len(skes_data))"
   ]
  },
  {
   "cell_type": "code",
   "execution_count": 41,
   "metadata": {},
   "outputs": [],
   "source": [
    "def get_actor_data(body_data, num_frames):\n",
    "    joints = np.zeros((num_frames, 75), dtype=np.float32)\n",
    "    colors = np.ones((num_frames, 1, 25, 2), dtype=np.float32) * np.nan\n",
    "    joints = body_data['skel_body'].reshape(-1, 75)\n",
    "    colors[:, 0] = body_data['rgb_body']\n",
    "    \n",
    "    return joints, colors"
   ]
  },
  {
   "cell_type": "code",
   "execution_count": 42,
   "metadata": {},
   "outputs": [],
   "source": [
    "setup = []\n",
    "camera = []\n",
    "label = []\n",
    "replication = []\n",
    "performer = []\n",
    "raw_joints = []\n",
    "raw_colors = []\n",
    "frame_cnt = []\n",
    "\n",
    "for sequence in data:\n",
    "    setup.append(sequence['setup'])\n",
    "    camera.append(sequence['camera'])\n",
    "    performer.append(sequence['subject'])\n",
    "    replication.append(sequence['replication'])\n",
    "    label.append(sequence['action'])\n",
    "    frame_cnt.append(sequence['nframes'])\n",
    "    \n",
    "    joints, colors = get_actor_data(sequence[\"bodies_data\"][0], sequence['nframes'])\n",
    "    \n",
    "    raw_joints.append(joints)\n",
    "    raw_colors.append(colors)"
   ]
  },
  {
   "cell_type": "code",
   "execution_count": 46,
   "metadata": {},
   "outputs": [],
   "source": [
    "def seq_translation(skes_joints):\n",
    "    for idx, ske_joints in enumerate(skes_joints):\n",
    "        num_frames = ske_joints.shape[0]\n",
    "\n",
    "        num_bodies = 1 if ske_joints.shape[1] == 75 else 2\n",
    "        if num_bodies == 2:\n",
    "            missing_frames_1 = np.where(ske_joints[:, :75].sum(axis=1) == 0)[0]\n",
    "            missing_frames_2 = np.where(ske_joints[:, 75:].sum(axis=1) == 0)[0]\n",
    "            cnt1 = len(missing_frames_1)\n",
    "            cnt2 = len(missing_frames_2)\n",
    "\n",
    "        i = 0  # get the \"real\" first frame of actor1\n",
    "        while i < num_frames:\n",
    "            if np.any(ske_joints[i, :75] != 0):\n",
    "                break\n",
    "            i += 1\n",
    "        \n",
    "        origin = np.copy(ske_joints[i, 3:6])  # new origin: joint-2\n",
    "\n",
    "        for f in range(num_frames):\n",
    "            if num_bodies == 1:\n",
    "                ske_joints[f] -= np.tile(origin, 25)\n",
    "            else:  # for 2 actors\n",
    "                ske_joints[f] -= np.tile(origin, 50)\n",
    "\n",
    "        if (num_bodies == 2) and (cnt1 > 0):\n",
    "            ske_joints[missing_frames_1, :75] = np.zeros((cnt1, 75), dtype=np.float32)\n",
    "\n",
    "        if (num_bodies == 2) and (cnt2 > 0):\n",
    "            ske_joints[missing_frames_2, 75:] = np.zeros((cnt2, 75), dtype=np.float32)\n",
    "\n",
    "        skes_joints[idx] = ske_joints  # Update\n",
    "\n",
    "    return skes_joints\n"
   ]
  },
  {
   "cell_type": "code",
   "execution_count": 47,
   "metadata": {},
   "outputs": [],
   "source": [
    "skes_joints = seq_translation(raw_joints)"
   ]
  },
  {
   "cell_type": "code",
   "execution_count": 51,
   "metadata": {},
   "outputs": [],
   "source": [
    "np.savetxt(\"camera.txt\", camera, fmt='%d')\n",
    "np.savetxt(\"setup.txt\", setup, fmt='%d')\n",
    "np.savetxt(\"label.txt\", label, fmt='%d')\n",
    "np.savetxt(\"performer.txt\", performer, fmt='%d')\n",
    "np.savetxt(\"replication.txt\", replication, fmt='%d')\n",
    "np.savetxt(\"frame_cnt.txt\", frame_cnt, fmt='%d')"
   ]
  },
  {
   "cell_type": "code",
   "execution_count": 52,
   "metadata": {},
   "outputs": [],
   "source": [
    "with open(\"raw_denoised_joints.pkl\", 'wb') as f:\n",
    "    pickle.dump(raw_joints, f, pickle.HIGHEST_PROTOCOL)\n",
    "    \n",
    "with open(\"raw_denoised_colors.pkl\", 'wb') as f:\n",
    "    pickle.dump(raw_joints, f, pickle.HIGHEST_PROTOCOL)"
   ]
  },
  {
   "cell_type": "code",
   "execution_count": null,
   "metadata": {},
   "outputs": [],
   "source": []
  }
 ],
 "metadata": {
  "kernelspec": {
   "display_name": "Python 3",
   "language": "python",
   "name": "python3"
  },
  "language_info": {
   "codemirror_mode": {
    "name": "ipython",
    "version": 3
   },
   "file_extension": ".py",
   "mimetype": "text/x-python",
   "name": "python",
   "nbconvert_exporter": "python",
   "pygments_lexer": "ipython3",
   "version": "3.6.10"
  }
 },
 "nbformat": 4,
 "nbformat_minor": 4
}
